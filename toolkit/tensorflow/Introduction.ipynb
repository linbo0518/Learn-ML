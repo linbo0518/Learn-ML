{
 "cells": [
  {
   "cell_type": "markdown",
   "metadata": {},
   "source": [
    "## Setup"
   ]
  },
  {
   "cell_type": "code",
   "execution_count": 1,
   "metadata": {},
   "outputs": [],
   "source": [
    "from __future__ import absolute_import\n",
    "from __future__ import division\n",
    "from __future__ import print_function\n",
    "\n",
    "import numpy as np\n",
    "import tensorflow as tf"
   ]
  },
  {
   "cell_type": "markdown",
   "metadata": {},
   "source": [
    "## TensorFlow Core Walkthrough"
   ]
  },
  {
   "cell_type": "markdown",
   "metadata": {},
   "source": [
    "### Graph"
   ]
  },
  {
   "cell_type": "code",
   "execution_count": 2,
   "metadata": {
    "scrolled": true
   },
   "outputs": [
    {
     "name": "stdout",
     "output_type": "stream",
     "text": [
      "Tensor(\"Const:0\", shape=(), dtype=float32)\n",
      "Tensor(\"Const_1:0\", shape=(), dtype=float32)\n",
      "Tensor(\"add:0\", shape=(), dtype=float32)\n"
     ]
    }
   ],
   "source": [
    "a = tf.constant(3.0, dtype=tf.float32)\n",
    "b = tf.constant(4.0)\n",
    "total = a + b\n",
    "print(a)\n",
    "print(b)\n",
    "print(total)"
   ]
  },
  {
   "cell_type": "markdown",
   "metadata": {},
   "source": [
    "### TensorBoard"
   ]
  },
  {
   "cell_type": "code",
   "execution_count": 3,
   "metadata": {},
   "outputs": [],
   "source": [
    "writer = tf.summary.FileWriter('.')\n",
    "writer.add_graph(tf.get_default_graph())"
   ]
  },
  {
   "cell_type": "markdown",
   "metadata": {},
   "source": [
    "### Session"
   ]
  },
  {
   "cell_type": "code",
   "execution_count": 4,
   "metadata": {},
   "outputs": [
    {
     "name": "stdout",
     "output_type": "stream",
     "text": [
      "7.0\n"
     ]
    }
   ],
   "source": [
    "sess = tf.Session()\n",
    "print(sess.run(total))"
   ]
  },
  {
   "cell_type": "code",
   "execution_count": 5,
   "metadata": {},
   "outputs": [
    {
     "name": "stdout",
     "output_type": "stream",
     "text": [
      "{'ab': (3.0, 4.0), 'total': 7.0}\n"
     ]
    }
   ],
   "source": [
    "print(sess.run({'ab': (a, b), 'total': total}))"
   ]
  },
  {
   "cell_type": "code",
   "execution_count": 6,
   "metadata": {},
   "outputs": [
    {
     "name": "stdout",
     "output_type": "stream",
     "text": [
      "[0.93953085 0.14691675 0.688282  ]\n",
      "[0.58099544 0.9487721  0.550362  ]\n",
      "(array([1.2370502, 1.8748823, 1.613271 ], dtype=float32), array([2.23705  , 2.8748822, 2.613271 ], dtype=float32))\n"
     ]
    }
   ],
   "source": [
    "vec = tf.random_uniform(shape=(3,))\n",
    "out1 = vec + 1\n",
    "out2 = vec + 2\n",
    "print(sess.run(vec))\n",
    "print(sess.run(vec))\n",
    "print(sess.run((out1, out2)))"
   ]
  },
  {
   "cell_type": "markdown",
   "metadata": {},
   "source": [
    "### Feeding"
   ]
  },
  {
   "cell_type": "code",
   "execution_count": 7,
   "metadata": {},
   "outputs": [],
   "source": [
    "x = tf.placeholder(tf.float32)\n",
    "y = tf.placeholder(tf.float32)\n",
    "z = x + y"
   ]
  },
  {
   "cell_type": "code",
   "execution_count": 8,
   "metadata": {},
   "outputs": [
    {
     "name": "stdout",
     "output_type": "stream",
     "text": [
      "7.5\n",
      "[3. 7.]\n"
     ]
    }
   ],
   "source": [
    "print(sess.run(z, feed_dict={x: 3, y: 4.5}))\n",
    "print(sess.run(z, feed_dict={x: [1, 3], y:[2, 4]}))"
   ]
  },
  {
   "cell_type": "markdown",
   "metadata": {},
   "source": [
    "## Datasets"
   ]
  },
  {
   "cell_type": "code",
   "execution_count": 9,
   "metadata": {},
   "outputs": [],
   "source": [
    "my_data = [\n",
    "    [0, 1,],\n",
    "    [2, 3,],\n",
    "    [4, 5,],\n",
    "    [6, 7,],\n",
    "]\n",
    "slices = tf.data.Dataset.from_tensor_slices(my_data)\n",
    "next_item = slices.make_one_shot_iterator().get_next()"
   ]
  },
  {
   "cell_type": "code",
   "execution_count": 10,
   "metadata": {},
   "outputs": [
    {
     "name": "stdout",
     "output_type": "stream",
     "text": [
      "[0 1]\n",
      "[2 3]\n",
      "[4 5]\n",
      "[6 7]\n"
     ]
    }
   ],
   "source": [
    "while True:\n",
    "    try:\n",
    "        print(sess.run(next_item))\n",
    "    except tf.errors.OutOfRangeError:\n",
    "        break"
   ]
  },
  {
   "cell_type": "code",
   "execution_count": 11,
   "metadata": {},
   "outputs": [
    {
     "name": "stdout",
     "output_type": "stream",
     "text": [
      "[-0.680384  -1.3080088 -0.5602123]\n",
      "[ 0.74375445 -0.7269249   0.8641697 ]\n",
      "[-0.01520354 -0.01904213  0.6500065 ]\n",
      "[-0.75541   -0.3295451 -0.5917274]\n",
      "[-0.6279358  -0.9601611  -0.35794324]\n",
      "[ 0.8481068   0.19351372 -0.9667384 ]\n",
      "[0.22194256 1.2835034  0.9430937 ]\n",
      "[-0.50041634 -0.856591   -0.97646356]\n",
      "[ 0.24655584 -1.8106551   0.46335483]\n",
      "[-0.2345854  -2.074828    0.03459405]\n"
     ]
    }
   ],
   "source": [
    "r = tf.random_normal([10,3])\n",
    "dataset = tf.data.Dataset.from_tensor_slices(r)\n",
    "iterator = dataset.make_initializable_iterator()\n",
    "next_row = iterator.get_next()\n",
    "\n",
    "sess.run(iterator.initializer)\n",
    "while True:\n",
    "    try:\n",
    "        print(sess.run(next_row))\n",
    "    except tf.errors.OutOfRangeError:\n",
    "        break"
   ]
  },
  {
   "cell_type": "markdown",
   "metadata": {},
   "source": [
    "## Layers"
   ]
  },
  {
   "cell_type": "markdown",
   "metadata": {},
   "source": [
    "### Creating Layers"
   ]
  },
  {
   "cell_type": "code",
   "execution_count": 12,
   "metadata": {},
   "outputs": [],
   "source": [
    "x = tf.placeholder(tf.float32, shape=[None, 3])\n",
    "linear_model = tf.layers.Dense(units=1)\n",
    "y = linear_model(x)"
   ]
  },
  {
   "cell_type": "markdown",
   "metadata": {},
   "source": [
    "### Initializing Layers"
   ]
  },
  {
   "cell_type": "code",
   "execution_count": 13,
   "metadata": {},
   "outputs": [],
   "source": [
    "init = tf.global_variables_initializer()\n",
    "sess.run(init)"
   ]
  },
  {
   "cell_type": "markdown",
   "metadata": {},
   "source": [
    "### Executing Layers"
   ]
  },
  {
   "cell_type": "code",
   "execution_count": 14,
   "metadata": {},
   "outputs": [
    {
     "name": "stdout",
     "output_type": "stream",
     "text": [
      "[[-0.6942595]\n",
      " [-1.4782119]]\n"
     ]
    }
   ],
   "source": [
    "print(sess.run(y, {x: [[1, 2, 3], [4, 5, 6]]}))"
   ]
  },
  {
   "cell_type": "markdown",
   "metadata": {},
   "source": [
    "### Layer Function shortcuts"
   ]
  },
  {
   "cell_type": "code",
   "execution_count": 15,
   "metadata": {},
   "outputs": [
    {
     "name": "stdout",
     "output_type": "stream",
     "text": [
      "[[-0.5516398 ]\n",
      " [ 0.07637787]]\n"
     ]
    }
   ],
   "source": [
    "x = tf.placeholder(tf.float32, shape=[None, 3])\n",
    "y = tf.layers.dense(x, units=1)\n",
    "\n",
    "init = tf.global_variables_initializer()\n",
    "sess.run(init)\n",
    "\n",
    "print(sess.run(y, {x: [[1, 2, 3], [4, 5, 6]]}))"
   ]
  },
  {
   "cell_type": "markdown",
   "metadata": {},
   "source": [
    "## Feature columns"
   ]
  },
  {
   "cell_type": "code",
   "execution_count": 16,
   "metadata": {},
   "outputs": [],
   "source": [
    "features = {\n",
    "    'sales' : [[5], [10], [8], [9]],\n",
    "    'department': ['sports', 'sports', 'gardening', 'gardening']}\n",
    "\n",
    "department_column = tf.feature_column.categorical_column_with_vocabulary_list(\n",
    "        'department', ['sports', 'gardening'])\n",
    "department_column = tf.feature_column.indicator_column(department_column)\n",
    "\n",
    "columns = [\n",
    "    tf.feature_column.numeric_column('sales'),\n",
    "    department_column\n",
    "]\n",
    "\n",
    "inputs = tf.feature_column.input_layer(features, columns)"
   ]
  },
  {
   "cell_type": "code",
   "execution_count": 17,
   "metadata": {},
   "outputs": [
    {
     "data": {
      "text/plain": [
       "(None, None)"
      ]
     },
     "execution_count": 17,
     "metadata": {},
     "output_type": "execute_result"
    }
   ],
   "source": [
    "var_init = tf.global_variables_initializer()\n",
    "table_init = tf.tables_initializer()\n",
    "sess = tf.Session()\n",
    "sess.run((var_init, table_init))"
   ]
  },
  {
   "cell_type": "code",
   "execution_count": 18,
   "metadata": {},
   "outputs": [
    {
     "name": "stdout",
     "output_type": "stream",
     "text": [
      "[[ 1.  0.  5.]\n",
      " [ 1.  0. 10.]\n",
      " [ 0.  1.  8.]\n",
      " [ 0.  1.  9.]]\n"
     ]
    }
   ],
   "source": [
    "print(sess.run(inputs))"
   ]
  },
  {
   "cell_type": "markdown",
   "metadata": {},
   "source": [
    "## Training"
   ]
  },
  {
   "cell_type": "markdown",
   "metadata": {},
   "source": [
    "### Define the data"
   ]
  },
  {
   "cell_type": "code",
   "execution_count": 19,
   "metadata": {},
   "outputs": [],
   "source": [
    "x = tf.constant([[1], [2], [3], [4]], dtype=tf.float32)\n",
    "y_true = tf.constant([[0], [-1], [-2], [-3]], dtype=tf.float32)"
   ]
  },
  {
   "cell_type": "markdown",
   "metadata": {},
   "source": [
    "### Define the model"
   ]
  },
  {
   "cell_type": "code",
   "execution_count": 20,
   "metadata": {},
   "outputs": [],
   "source": [
    "linear_model = tf.layers.Dense(units=1)\n",
    "\n",
    "y_pred = linear_model(x)"
   ]
  },
  {
   "cell_type": "code",
   "execution_count": 21,
   "metadata": {},
   "outputs": [
    {
     "name": "stdout",
     "output_type": "stream",
     "text": [
      "[[-1.7237554]\n",
      " [-3.4475107]\n",
      " [-5.171266 ]\n",
      " [-6.8950214]]\n"
     ]
    }
   ],
   "source": [
    "sess = tf.Session()\n",
    "init = tf.global_variables_initializer()\n",
    "sess.run(init)\n",
    "\n",
    "print(sess.run(y_pred))"
   ]
  },
  {
   "cell_type": "markdown",
   "metadata": {},
   "source": [
    "### Loss"
   ]
  },
  {
   "cell_type": "code",
   "execution_count": 22,
   "metadata": {},
   "outputs": [
    {
     "name": "stdout",
     "output_type": "stream",
     "text": [
      "8.547441\n"
     ]
    }
   ],
   "source": [
    "loss = tf.losses.mean_squared_error(labels=y_true, predictions=y_pred)\n",
    "\n",
    "print(sess.run(loss))"
   ]
  },
  {
   "cell_type": "markdown",
   "metadata": {},
   "source": [
    "### Training"
   ]
  },
  {
   "cell_type": "code",
   "execution_count": 23,
   "metadata": {},
   "outputs": [],
   "source": [
    "optimizer = tf.train.GradientDescentOptimizer(0.01)\n",
    "train = optimizer.minimize(loss)"
   ]
  },
  {
   "cell_type": "code",
   "execution_count": 24,
   "metadata": {},
   "outputs": [
    {
     "name": "stdout",
     "output_type": "stream",
     "text": [
      "8.547441\n",
      "5.9537735\n",
      "4.1539454\n",
      "2.9049463\n",
      "2.038158\n",
      "1.4365766\n",
      "1.0190188\n",
      "0.72915155\n",
      "0.5278868\n",
      "0.38810235\n",
      "0.2909785\n",
      "0.22345656\n",
      "0.1764757\n",
      "0.14374854\n",
      "0.12091254\n",
      "0.104940556\n",
      "0.09373216\n",
      "0.085829824\n",
      "0.08022224\n",
      "0.07620772\n",
      "0.07329928\n",
      "0.07115912\n",
      "0.06955273\n",
      "0.06831745\n",
      "0.0673404\n",
      "0.06654325\n",
      "0.06587163\n",
      "0.065287836\n",
      "0.0647657\n",
      "0.06428702\n",
      "0.0638392\n",
      "0.063413486\n",
      "0.06300379\n",
      "0.06260588\n",
      "0.062216878\n",
      "0.061834697\n",
      "0.06145789\n",
      "0.061085556\n",
      "0.060716897\n",
      "0.060351513\n",
      "0.05998904\n",
      "0.059629254\n",
      "0.059271943\n",
      "0.058917\n",
      "0.058564365\n",
      "0.058213983\n",
      "0.05786574\n",
      "0.05751963\n",
      "0.05717565\n",
      "0.05683376\n",
      "0.056493893\n",
      "0.056156114\n",
      "0.05582034\n",
      "0.0554866\n",
      "0.055154838\n",
      "0.05482506\n",
      "0.054497257\n",
      "0.054171443\n",
      "0.053847533\n",
      "0.053525582\n",
      "0.053205572\n",
      "0.052887477\n",
      "0.052571256\n",
      "0.05225693\n",
      "0.051944513\n",
      "0.05163395\n",
      "0.051325236\n",
      "0.051018354\n",
      "0.05071334\n",
      "0.05041012\n",
      "0.05010873\n",
      "0.049809143\n",
      "0.049511336\n",
      "0.049215324\n",
      "0.048921075\n",
      "0.04862857\n",
      "0.048337813\n",
      "0.04804881\n",
      "0.047761545\n",
      "0.047475975\n",
      "0.04719215\n",
      "0.04690998\n",
      "0.046629515\n",
      "0.046350714\n",
      "0.04607361\n",
      "0.045798134\n",
      "0.045524307\n",
      "0.045252115\n",
      "0.044981584\n",
      "0.04471265\n",
      "0.04444531\n",
      "0.044179577\n",
      "0.043915443\n",
      "0.04365288\n",
      "0.043391887\n",
      "0.04313243\n",
      "0.042874567\n",
      "0.042618215\n",
      "0.042363428\n",
      "0.042110134\n"
     ]
    }
   ],
   "source": [
    "for i in range(100):\n",
    "    _, loss_value = sess.run((train, loss))\n",
    "    print(loss_value)"
   ]
  },
  {
   "cell_type": "markdown",
   "metadata": {},
   "source": [
    "### Complete program"
   ]
  },
  {
   "cell_type": "code",
   "execution_count": 25,
   "metadata": {},
   "outputs": [
    {
     "name": "stdout",
     "output_type": "stream",
     "text": [
      "2.4525962\n",
      "1.7363069\n",
      "1.2390822\n",
      "0.8938631\n",
      "0.65411925\n",
      "0.4875635\n",
      "0.37179255\n",
      "0.29126143\n",
      "0.2351836\n",
      "0.19607458\n",
      "0.16874099\n",
      "0.14957933\n",
      "0.13608924\n",
      "0.12653558\n",
      "0.119714566\n",
      "0.11479081\n",
      "0.11118464\n",
      "0.10849386\n",
      "0.10643937\n",
      "0.104827516\n",
      "0.103523895\n",
      "0.10243532\n",
      "0.101496965\n",
      "0.10066402\n",
      "0.09990523\n",
      "0.09919909\n",
      "0.09853044\n",
      "0.09788892\n",
      "0.09726728\n",
      "0.096660465\n",
      "0.09606507\n",
      "0.09547855\n",
      "0.09489927\n",
      "0.09432602\n",
      "0.09375801\n",
      "0.09319463\n",
      "0.0926355\n",
      "0.09208026\n",
      "0.09152881\n",
      "0.090980925\n",
      "0.0904365\n",
      "0.08989547\n",
      "0.0893578\n",
      "0.08882337\n",
      "0.088292204\n",
      "0.08776425\n",
      "0.08723947\n",
      "0.08671784\n",
      "0.086199336\n",
      "0.08568395\n",
      "0.08517165\n",
      "0.08466241\n",
      "0.08415623\n",
      "0.08365304\n",
      "0.083152905\n",
      "0.082655765\n",
      "0.08216156\n",
      "0.08167033\n",
      "0.08118205\n",
      "0.08069664\n",
      "0.0802142\n",
      "0.079734586\n",
      "0.0792579\n",
      "0.07878402\n",
      "0.07831296\n",
      "0.077844754\n",
      "0.07737932\n",
      "0.07691667\n",
      "0.07645683\n",
      "0.075999685\n",
      "0.07554532\n",
      "0.07509365\n",
      "0.07464466\n",
      "0.074198365\n",
      "0.07375477\n",
      "0.0733138\n",
      "0.07287545\n",
      "0.07243976\n",
      "0.072006635\n",
      "0.07157612\n",
      "0.07114818\n",
      "0.070722796\n",
      "0.07029995\n",
      "0.069879636\n",
      "0.06946185\n",
      "0.069046535\n",
      "0.06863372\n",
      "0.06822336\n",
      "0.06781547\n",
      "0.06741\n",
      "0.06700698\n",
      "0.06660634\n",
      "0.06620812\n",
      "0.06581226\n",
      "0.06541879\n",
      "0.06502766\n",
      "0.06463888\n",
      "0.06425241\n",
      "0.06386826\n",
      "0.0634864\n",
      "[[-0.4056277]\n",
      " [-1.1965544]\n",
      " [-1.9874811]\n",
      " [-2.7784078]]\n"
     ]
    }
   ],
   "source": [
    "x = tf.constant([[1], [2], [3], [4]], dtype=tf.float32)\n",
    "y_true = tf.constant([[0], [-1], [-2], [-3]], dtype=tf.float32)\n",
    "\n",
    "linear_model = tf.layers.Dense(units=1)\n",
    "\n",
    "y_pred = linear_model(x)\n",
    "loss = tf.losses.mean_squared_error(labels=y_true, predictions=y_pred)\n",
    "\n",
    "optimizer = tf.train.GradientDescentOptimizer(0.01)\n",
    "train = optimizer.minimize(loss)\n",
    "\n",
    "init = tf.global_variables_initializer()\n",
    "\n",
    "sess = tf.Session()\n",
    "sess.run(init)\n",
    "for i in range(100):\n",
    "    _, loss_value = sess.run((train, loss))\n",
    "    print(loss_value)\n",
    "\n",
    "print(sess.run(y_pred))"
   ]
  }
 ],
 "metadata": {
  "kernelspec": {
   "display_name": "Python 3",
   "language": "python",
   "name": "python3"
  },
  "language_info": {
   "codemirror_mode": {
    "name": "ipython",
    "version": 3
   },
   "file_extension": ".py",
   "mimetype": "text/x-python",
   "name": "python",
   "nbconvert_exporter": "python",
   "pygments_lexer": "ipython3",
   "version": "3.6.5"
  }
 },
 "nbformat": 4,
 "nbformat_minor": 2
}
