{
 "cells": [
  {
   "cell_type": "markdown",
   "metadata": {},
   "source": [
    "## Setup"
   ]
  },
  {
   "cell_type": "code",
   "execution_count": 1,
   "metadata": {},
   "outputs": [],
   "source": [
    "from __future__ import absolute_import\n",
    "from __future__ import division\n",
    "from __future__ import print_function\n",
    "import numpy as np\n",
    "import tensorflow as tf"
   ]
  },
  {
   "cell_type": "markdown",
   "metadata": {},
   "source": [
    "## TensorFlow Core Walkthrough"
   ]
  },
  {
   "cell_type": "markdown",
   "metadata": {},
   "source": [
    "### Graph"
   ]
  },
  {
   "cell_type": "code",
   "execution_count": 2,
   "metadata": {},
   "outputs": [
    {
     "name": "stdout",
     "output_type": "stream",
     "text": [
      "Tensor(\"Const:0\", shape=(), dtype=float32)\n",
      "Tensor(\"Const_1:0\", shape=(), dtype=float32)\n",
      "Tensor(\"add:0\", shape=(), dtype=float32)\n"
     ]
    }
   ],
   "source": [
    "a = tf.constant(3.0, dtype=tf.float32)\n",
    "b = tf.constant(4.0)\n",
    "total = a + b\n",
    "print(a)\n",
    "print(b)\n",
    "print(total)"
   ]
  },
  {
   "cell_type": "markdown",
   "metadata": {},
   "source": [
    "### TensorBoard"
   ]
  },
  {
   "cell_type": "code",
   "execution_count": 3,
   "metadata": {},
   "outputs": [],
   "source": [
    "writer = tf.summary.FileWriter('.')\n",
    "writer.add_graph(tf.get_default_graph())"
   ]
  },
  {
   "cell_type": "markdown",
   "metadata": {},
   "source": [
    "### Session"
   ]
  },
  {
   "cell_type": "code",
   "execution_count": 4,
   "metadata": {},
   "outputs": [
    {
     "name": "stdout",
     "output_type": "stream",
     "text": [
      "7.0\n"
     ]
    }
   ],
   "source": [
    "sess = tf.Session()\n",
    "print(sess.run(total))"
   ]
  },
  {
   "cell_type": "code",
   "execution_count": 5,
   "metadata": {},
   "outputs": [
    {
     "name": "stdout",
     "output_type": "stream",
     "text": [
      "{'ab': (3.0, 4.0), 'total': 7.0}\n"
     ]
    }
   ],
   "source": [
    "print(sess.run({'ab': (a, b), 'total': total}))"
   ]
  },
  {
   "cell_type": "code",
   "execution_count": 6,
   "metadata": {},
   "outputs": [
    {
     "name": "stdout",
     "output_type": "stream",
     "text": [
      "[0.56197965 0.7048255  0.7499045 ]\n",
      "[0.83280253 0.72722375 0.7294365 ]\n",
      "(array([1.1648749, 1.8248862, 1.7813193], dtype=float32), array([2.164875 , 2.8248863, 2.7813191], dtype=float32))\n"
     ]
    }
   ],
   "source": [
    "vec = tf.random_uniform(shape=(3,))\n",
    "out1 = vec + 1\n",
    "out2 = vec + 2\n",
    "print(sess.run(vec))\n",
    "print(sess.run(vec))\n",
    "print(sess.run((out1, out2)))"
   ]
  },
  {
   "cell_type": "markdown",
   "metadata": {},
   "source": [
    "### Feeding"
   ]
  },
  {
   "cell_type": "code",
   "execution_count": 7,
   "metadata": {},
   "outputs": [],
   "source": [
    "x = tf.placeholder(tf.float32)\n",
    "y = tf.placeholder(tf.float32)\n",
    "z = x + y"
   ]
  },
  {
   "cell_type": "code",
   "execution_count": 8,
   "metadata": {},
   "outputs": [
    {
     "name": "stdout",
     "output_type": "stream",
     "text": [
      "7.5\n",
      "[3. 7.]\n"
     ]
    }
   ],
   "source": [
    "print(sess.run(z, feed_dict={x: 3, y: 4.5}))\n",
    "print(sess.run(z, feed_dict={x: [1, 3], y:[2, 4]}))"
   ]
  },
  {
   "cell_type": "markdown",
   "metadata": {},
   "source": [
    "## Datasets"
   ]
  },
  {
   "cell_type": "code",
   "execution_count": 9,
   "metadata": {},
   "outputs": [
    {
     "name": "stdout",
     "output_type": "stream",
     "text": [
      "[0 1]\n",
      "[2 3]\n",
      "[4 5]\n",
      "[6 7]\n"
     ]
    }
   ],
   "source": [
    "my_data = [\n",
    "    [0, 1,],\n",
    "    [2, 3,],\n",
    "    [4, 5,],\n",
    "    [6, 7,],\n",
    "]\n",
    "slices = tf.data.Dataset.from_tensor_slices(my_data)\n",
    "next_item = slices.make_one_shot_iterator().get_next()\n",
    "\n",
    "while True:\n",
    "    try:\n",
    "        print(sess.run(next_item))\n",
    "    except tf.errors.OutOfRangeError:\n",
    "        break"
   ]
  },
  {
   "cell_type": "code",
   "execution_count": 10,
   "metadata": {},
   "outputs": [
    {
     "name": "stdout",
     "output_type": "stream",
     "text": [
      "[ 1.5301434  -1.2222139  -0.18496378]\n",
      "[-0.34257147  0.7699402  -2.559804  ]\n",
      "[-0.37470984 -0.47780067 -0.15916249]\n",
      "[0.7415607  0.90958315 0.03753797]\n",
      "[-2.185148   -0.40521502 -1.5375686 ]\n",
      "[-0.2719819   0.73091865  0.4428518 ]\n",
      "[-1.0287449 -0.7210024  0.4634773]\n",
      "[ 0.70746243  0.15897769 -0.6963033 ]\n",
      "[ 0.82683885 -0.28732592  0.06796919]\n",
      "[ 0.67661273 -0.2025682  -0.17871903]\n"
     ]
    }
   ],
   "source": [
    "r = tf.random_normal([10, 3]) # need to be initalized\n",
    "dataset = tf.data.Dataset.from_tensor_slices(r)\n",
    "iterator = dataset.make_initializable_iterator()\n",
    "next_row = iterator.get_next()\n",
    "sess.run(iterator.initializer)\n",
    "\n",
    "while True:\n",
    "    try:\n",
    "        print(sess.run(next_row))\n",
    "    except tf.errors.OutOfRangeError:\n",
    "        break"
   ]
  },
  {
   "cell_type": "markdown",
   "metadata": {},
   "source": [
    "## Layers"
   ]
  },
  {
   "cell_type": "markdown",
   "metadata": {},
   "source": [
    "### Creating Layers"
   ]
  },
  {
   "cell_type": "code",
   "execution_count": 11,
   "metadata": {},
   "outputs": [],
   "source": [
    "x = tf.placeholder(tf.float32, shape=[None, 3])\n",
    "linear_model = tf.layers.Dense(units=1)\n",
    "y = linear_model(x)"
   ]
  },
  {
   "cell_type": "markdown",
   "metadata": {},
   "source": [
    "### Initializing Layers"
   ]
  },
  {
   "cell_type": "code",
   "execution_count": 12,
   "metadata": {},
   "outputs": [],
   "source": [
    "init = tf.global_variables_initializer()\n",
    "sess.run(init)"
   ]
  },
  {
   "cell_type": "code",
   "execution_count": 13,
   "metadata": {},
   "outputs": [
    {
     "name": "stdout",
     "output_type": "stream",
     "text": [
      "[[ -5.192934 ]\n",
      " [-12.0343895]]\n"
     ]
    }
   ],
   "source": [
    "print(sess.run(y, {x: [[1, 2, 3], [4, 5, 6]]}))"
   ]
  },
  {
   "cell_type": "code",
   "execution_count": 14,
   "metadata": {},
   "outputs": [
    {
     "name": "stdout",
     "output_type": "stream",
     "text": [
      "[[2.2378435]\n",
      " [4.2076697]]\n"
     ]
    }
   ],
   "source": [
    "x = tf.placeholder(tf.float32, shape=[None, 3])\n",
    "y = tf.layers.dense(x, units=1)\n",
    "init = tf.global_variables_initializer()\n",
    "sess.run(init)\n",
    "print(sess.run(y, {x: [[1, 2, 3,], [4, 5, 6]]}))"
   ]
  },
  {
   "cell_type": "markdown",
   "metadata": {},
   "source": [
    "## Feature columns"
   ]
  },
  {
   "cell_type": "code",
   "execution_count": 15,
   "metadata": {},
   "outputs": [],
   "source": [
    "features = {\n",
    "    'sales': [[5], [10], [8], [9]],\n",
    "    'department': ['sports', 'sports', 'gardening', 'gardening']\n",
    "}\n",
    "department_column = tf.feature_column.categorical_column_with_vocabulary_list('department', ['sports', 'gardening'])\n",
    "department_column = tf.feature_column.indicator_column(department_column)\n",
    "columns = [\n",
    "    tf.feature_column.numeric_column('sales'),\n",
    "    department_column\n",
    "]\n",
    "inputs = tf.feature_column.input_layer(features, columns)"
   ]
  },
  {
   "cell_type": "code",
   "execution_count": 16,
   "metadata": {},
   "outputs": [
    {
     "data": {
      "text/plain": [
       "(None, None)"
      ]
     },
     "execution_count": 16,
     "metadata": {},
     "output_type": "execute_result"
    }
   ],
   "source": [
    "var_init = tf.global_variables_initializer()\n",
    "table_init = tf.tables_initializer()\n",
    "sess = tf.Session()\n",
    "sess.run((var_init, table_init))"
   ]
  },
  {
   "cell_type": "code",
   "execution_count": 17,
   "metadata": {},
   "outputs": [
    {
     "name": "stdout",
     "output_type": "stream",
     "text": [
      "[[ 1.  0.  5.]\n",
      " [ 1.  0. 10.]\n",
      " [ 0.  1.  8.]\n",
      " [ 0.  1.  9.]]\n"
     ]
    }
   ],
   "source": [
    "print(sess.run(inputs))"
   ]
  },
  {
   "cell_type": "markdown",
   "metadata": {},
   "source": [
    "## Training"
   ]
  },
  {
   "cell_type": "markdown",
   "metadata": {},
   "source": [
    "### Define the data"
   ]
  },
  {
   "cell_type": "code",
   "execution_count": 18,
   "metadata": {},
   "outputs": [],
   "source": [
    "x = tf.constant([[1], [2], [3], [4]], dtype=tf.float32)\n",
    "y_true = tf.constant([[0], [-1], [-2], [-3]], dtype=tf.float32)"
   ]
  },
  {
   "cell_type": "markdown",
   "metadata": {},
   "source": [
    "### Define the model"
   ]
  },
  {
   "cell_type": "code",
   "execution_count": 19,
   "metadata": {},
   "outputs": [],
   "source": [
    "linear_model = tf.layers.Dense(units=1)\n",
    "y_pred = linear_model(x)"
   ]
  },
  {
   "cell_type": "code",
   "execution_count": 20,
   "metadata": {},
   "outputs": [
    {
     "name": "stdout",
     "output_type": "stream",
     "text": [
      "[[-0.42881382]\n",
      " [-0.85762763]\n",
      " [-1.2864414 ]\n",
      " [-1.7152553 ]]\n"
     ]
    }
   ],
   "source": [
    "sess = tf.Session()\n",
    "init = tf.global_variables_initializer()\n",
    "sess.run(init)\n",
    "print(sess.run(y_pred))"
   ]
  },
  {
   "cell_type": "markdown",
   "metadata": {},
   "source": [
    "### Loss"
   ]
  },
  {
   "cell_type": "code",
   "execution_count": 21,
   "metadata": {},
   "outputs": [
    {
     "name": "stdout",
     "output_type": "stream",
     "text": [
      "0.5909715\n"
     ]
    }
   ],
   "source": [
    "loss = tf.losses.mean_squared_error(labels=y_true, predictions=y_pred)\n",
    "print(sess.run(loss))"
   ]
  },
  {
   "cell_type": "code",
   "execution_count": 22,
   "metadata": {},
   "outputs": [],
   "source": [
    "optimizer = tf.train.GradientDescentOptimizer(0.01)\n",
    "train = optimizer.minimize(loss)"
   ]
  },
  {
   "cell_type": "code",
   "execution_count": 23,
   "metadata": {},
   "outputs": [
    {
     "name": "stdout",
     "output_type": "stream",
     "text": [
      "0.5909715\n",
      "0.46750093\n",
      "0.38148385\n",
      "0.32145715\n",
      "0.2794664\n",
      "0.2499927\n",
      "0.22920626\n",
      "0.21444967\n",
      "0.20387915\n",
      "0.19621521\n",
      "0.19057001\n",
      "0.18632755\n",
      "0.18306041\n",
      "0.18047184\n",
      "0.17835617\n",
      "0.17657049\n",
      "0.17501569\n",
      "0.17362294\n",
      "0.17234458\n",
      "0.17114742\n",
      "0.17000845\n",
      "0.16891168\n",
      "0.16784611\n",
      "0.16680393\n",
      "0.1657798\n",
      "0.16477\n",
      "0.16377197\n",
      "0.16278383\n",
      "0.16180438\n",
      "0.16083264\n",
      "0.15986806\n",
      "0.15891016\n",
      "0.15795863\n",
      "0.15701322\n",
      "0.1560738\n",
      "0.15514015\n",
      "0.15421224\n",
      "0.15329\n",
      "0.15237334\n",
      "0.15146223\n",
      "0.15055656\n",
      "0.14965639\n",
      "0.14876156\n",
      "0.14787209\n",
      "0.14698797\n",
      "0.14610913\n",
      "0.1452356\n",
      "0.14436723\n",
      "0.14350408\n",
      "0.14264607\n",
      "0.14179322\n",
      "0.14094546\n",
      "0.1401028\n",
      "0.13926512\n",
      "0.13843247\n",
      "0.1376048\n",
      "0.1367821\n",
      "0.1359643\n",
      "0.13515137\n",
      "0.13434333\n",
      "0.13354012\n",
      "0.13274166\n",
      "0.13194805\n",
      "0.13115916\n",
      "0.13037495\n",
      "0.1295955\n",
      "0.12882066\n",
      "0.12805045\n",
      "0.12728488\n",
      "0.12652384\n",
      "0.12576737\n",
      "0.12501544\n",
      "0.124268025\n",
      "0.123525016\n",
      "0.1227865\n",
      "0.12205239\n",
      "0.121322624\n",
      "0.12059726\n",
      "0.119876236\n",
      "0.1191595\n",
      "0.118447065\n",
      "0.11773892\n",
      "0.11703495\n",
      "0.11633523\n",
      "0.11563967\n",
      "0.114948265\n",
      "0.114261016\n",
      "0.1135779\n",
      "0.1128988\n",
      "0.11222381\n",
      "0.11155283\n",
      "0.110885866\n",
      "0.1102229\n",
      "0.10956389\n",
      "0.10890884\n",
      "0.10825771\n",
      "0.10761044\n",
      "0.106967025\n",
      "0.106327504\n",
      "0.10569178\n"
     ]
    }
   ],
   "source": [
    "for i in range(100):\n",
    "    _, loss_value = sess.run((train, loss))\n",
    "    print(loss_value)"
   ]
  },
  {
   "cell_type": "markdown",
   "metadata": {},
   "source": [
    "### Complete program"
   ]
  },
  {
   "cell_type": "code",
   "execution_count": 24,
   "metadata": {},
   "outputs": [
    {
     "name": "stdout",
     "output_type": "stream",
     "text": [
      "0.10505988\n",
      "0.10443175\n",
      "0.10380733\n",
      "0.10318669\n",
      "0.102569774\n",
      "0.10195654\n",
      "0.10134693\n",
      "0.100741\n",
      "0.100138694\n",
      "0.09953998\n",
      "0.09894485\n",
      "0.09835327\n",
      "0.09776526\n",
      "0.097180694\n",
      "0.09659968\n",
      "0.09602213\n",
      "0.09544804\n",
      "0.09487736\n",
      "0.09431012\n",
      "0.09374624\n",
      "0.093185745\n",
      "0.09262861\n",
      "0.092074804\n",
      "0.09152427\n",
      "0.09097706\n",
      "0.09043313\n",
      "0.089892454\n",
      "0.08935498\n",
      "0.08882077\n",
      "0.08828969\n",
      "0.08776183\n",
      "0.087237135\n",
      "0.08671555\n",
      "0.08619708\n",
      "0.08568172\n",
      "0.08516945\n",
      "0.08466025\n",
      "0.08415409\n",
      "0.08365092\n",
      "0.083150804\n",
      "0.08265364\n",
      "0.082159474\n",
      "0.08166824\n",
      "0.081179984\n",
      "0.08069459\n",
      "0.080212146\n",
      "0.07973258\n",
      "0.07925585\n",
      "0.07878201\n",
      "0.07831098\n",
      "0.07784278\n",
      "0.077377364\n",
      "0.07691472\n",
      "0.07645486\n",
      "0.07599775\n",
      "0.075543374\n",
      "0.07509171\n",
      "0.07464274\n",
      "0.07419649\n",
      "0.07375288\n",
      "0.07331192\n",
      "0.072873585\n",
      "0.07243788\n",
      "0.072004795\n",
      "0.07157431\n",
      "0.07114635\n",
      "0.07072098\n",
      "0.07029818\n",
      "0.06987787\n",
      "0.06946007\n",
      "0.06904477\n",
      "0.06863196\n",
      "0.06822162\n",
      "0.06781375\n",
      "0.06740829\n",
      "0.067005254\n",
      "0.06660464\n",
      "0.066206425\n",
      "0.06581061\n",
      "0.06541713\n",
      "0.065026015\n",
      "0.06463724\n",
      "0.06425078\n",
      "0.06386663\n",
      "0.0634848\n",
      "0.06310522\n",
      "0.06272793\n",
      "0.062352877\n",
      "0.061980076\n",
      "0.06160952\n",
      "0.061241172\n",
      "0.060875025\n",
      "0.06051106\n",
      "0.060149275\n",
      "0.059789665\n",
      "0.05943218\n",
      "0.059076846\n",
      "0.058723647\n",
      "0.058372542\n",
      "0.058023512\n",
      "[[-0.3877835]\n",
      " [-1.1879077]\n",
      " [-1.9880319]\n",
      " [-2.788156 ]]\n"
     ]
    }
   ],
   "source": [
    "# x = tf.constant([[1], [2], [3], [4]], dtype=tf.float32)\n",
    "# y_true = tf.constant([[0], [-1], [-2], [-3]], dtype=tf.float32)\n",
    "# linear_model = tf.layers.Dense(units=1)\n",
    "# y_pred = linear_model(x)\n",
    "# loss = tf.losses.mean_squared_error(labels=y_true, predictions=y_pred)\n",
    "# optimizer = tf.train.GradientDescentOptimizer(0.01)\n",
    "# train = optimizer.minimize(loss)\n",
    "# init = tf.global_variables_initializer()\n",
    "# sess = tf.Session()\n",
    "# sess.run(init)\n",
    "for i in range(100):\n",
    "  _, loss_value = sess.run((train, loss))\n",
    "  print(loss_value)\n",
    "print(sess.run(y_pred))"
   ]
  }
 ],
 "metadata": {
  "kernelspec": {
   "display_name": "Python 3",
   "language": "python",
   "name": "python3"
  },
  "language_info": {
   "codemirror_mode": {
    "name": "ipython",
    "version": 3
   },
   "file_extension": ".py",
   "mimetype": "text/x-python",
   "name": "python",
   "nbconvert_exporter": "python",
   "pygments_lexer": "ipython3",
   "version": "3.6.5"
  }
 },
 "nbformat": 4,
 "nbformat_minor": 2
}
