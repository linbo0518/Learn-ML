{
 "cells": [
  {
   "cell_type": "markdown",
   "metadata": {},
   "source": [
    "# Linear Regression"
   ]
  },
  {
   "cell_type": "code",
   "execution_count": 1,
   "metadata": {},
   "outputs": [],
   "source": [
    "import numpy as np\n",
    "import tensorflow as tf\n",
    "import matplotlib.pyplot as plt"
   ]
  },
  {
   "cell_type": "code",
   "execution_count": 2,
   "metadata": {},
   "outputs": [],
   "source": [
    "learning_rate = 0.01\n",
    "training_epochs = 1000\n",
    "display_step = 50"
   ]
  },
  {
   "cell_type": "code",
   "execution_count": 3,
   "metadata": {},
   "outputs": [],
   "source": [
    "train_x = np.asarray(\n",
    "    [3.3, 4.4, 5.5, 6.71, 6.93, 4.168, 9.779, 6.182,7.59, \n",
    "     2.167, 7.042, 10.791, 5.313, 7.997, 5.654, 9.27,3.1])\n",
    "train_y = np.asarray(\n",
    "    [1.7, 2.76, 2.09, 3.19, 1.694, 1.573, 3.366, 2.596, 2.53,\n",
    "     1.221, 2.827, 3.465, 1.65, 2.904, 2.42, 2.94, 1.3])\n",
    "n_samples = train_x.shape[0]"
   ]
  },
  {
   "cell_type": "code",
   "execution_count": 4,
   "metadata": {},
   "outputs": [],
   "source": [
    "x = tf.placeholder(tf.float32)\n",
    "y = tf.placeholder(tf.float32)\n",
    "\n",
    "w = tf.get_variable('weight', initializer=np.random.randn())\n",
    "b = tf.get_variable('bias', initializer=np.random.randn())"
   ]
  },
  {
   "cell_type": "code",
   "execution_count": 5,
   "metadata": {},
   "outputs": [],
   "source": [
    "pred = tf.add(tf.multiply(w, x), b)"
   ]
  },
  {
   "cell_type": "code",
   "execution_count": 6,
   "metadata": {},
   "outputs": [],
   "source": [
    "loss = tf.reduce_sum(tf.pow(pred - y, 2))/(2 * n_samples)\n",
    "\n",
    "optimizer = tf.train.GradientDescentOptimizer(learning_rate).minimize(loss)\n",
    "\n",
    "init  = tf.global_variables_initializer()"
   ]
  },
  {
   "cell_type": "code",
   "execution_count": 7,
   "metadata": {},
   "outputs": [
    {
     "name": "stdout",
     "output_type": "stream",
     "text": [
      "epoch: 0050 loss= 0.08150210 w = 0.2873 b = 0.5299\n",
      "epoch: 0100 loss= 0.08097829 w = 0.2851 b = 0.5461\n",
      "epoch: 0150 loss= 0.08051509 w = 0.2830 b = 0.5613\n",
      "epoch: 0200 loss= 0.08010551 w = 0.2810 b = 0.5756\n",
      "epoch: 0250 loss= 0.07974339 w = 0.2791 b = 0.5890\n",
      "epoch: 0300 loss= 0.07942320 w = 0.2774 b = 0.6016\n",
      "epoch: 0350 loss= 0.07914013 w = 0.2757 b = 0.6135\n",
      "epoch: 0400 loss= 0.07888990 w = 0.2742 b = 0.6247\n",
      "epoch: 0450 loss= 0.07866868 w = 0.2727 b = 0.6352\n",
      "epoch: 0500 loss= 0.07847312 w = 0.2713 b = 0.6451\n",
      "epoch: 0550 loss= 0.07830022 w = 0.2700 b = 0.6544\n",
      "epoch: 0600 loss= 0.07814743 w = 0.2688 b = 0.6631\n",
      "epoch: 0650 loss= 0.07801233 w = 0.2677 b = 0.6714\n",
      "epoch: 0700 loss= 0.07789291 w = 0.2666 b = 0.6791\n",
      "epoch: 0750 loss= 0.07778739 w = 0.2656 b = 0.6864\n",
      "epoch: 0800 loss= 0.07769410 w = 0.2646 b = 0.6932\n",
      "epoch: 0850 loss= 0.07761171 w = 0.2637 b = 0.6997\n",
      "epoch: 0900 loss= 0.07753885 w = 0.2629 b = 0.7057\n",
      "epoch: 0950 loss= 0.07747447 w = 0.2621 b = 0.7114\n",
      "epoch: 1000 loss= 0.07741761 w = 0.2614 b = 0.7168\n",
      "Training finished!\n",
      "Training loss = 0.07741761 w = 0.2614 b = 0.7168\n"
     ]
    },
    {
     "data": {
      "image/png": "[encoded data removed]",
      "text/plain": [
       "<Figure size 432x288 with 1 Axes>"
      ]
     },
     "metadata": {},
     "output_type": "display_data"
    }
   ],
   "source": [
    "with tf.Session() as sess:\n",
    "    sess.run(init)\n",
    "    \n",
    "    for epoch in range(training_epochs):\n",
    "        for (each_x, each_y) in zip(train_x, train_y):\n",
    "            sess.run(optimizer, feed_dict={x: each_x, y: each_y})\n",
    "        if (epoch + 1) % display_step == 0:\n",
    "            cur_loss = sess.run(loss, feed_dict={x: train_x, y: train_y})\n",
    "            print(\"epoch: %04d loss= %0.8f w = %0.4f b = %0.4f\" \n",
    "                  % (epoch + 1, cur_loss, sess.run(w), sess.run(b)))\n",
    "    \n",
    "    print('Training finished!')\n",
    "    training_loss = sess.run(loss, feed_dict={x: train_x, y: train_y})\n",
    "    print('Training loss = %0.8f w = %0.4f b = %0.4f'\n",
    "          % (training_loss, sess.run(w), sess.run(b)))\n",
    "    \n",
    "    plt.plot(train_x, train_y, 'ro', label='Original data')\n",
    "    plt.plot(train_x, sess.run(w) * train_x + sess.run(b), label='Fitted line')\n",
    "    plt.legend()\n",
    "    plt.show()"
   ]
  }
 ],
 "metadata": {
  "kernelspec": {
   "display_name": "Python 3",
   "language": "python",
   "name": "python3"
  },
  "language_info": {
   "codemirror_mode": {
    "name": "ipython",
    "version": 3
   },
   "file_extension": ".py",
   "mimetype": "text/x-python",
   "name": "python",
   "nbconvert_exporter": "python",
   "pygments_lexer": "ipython3",
   "version": "3.6.5"
  }
 },
 "nbformat": 4,
 "nbformat_minor": 2
}
